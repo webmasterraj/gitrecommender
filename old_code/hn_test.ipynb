{
 "cells": [
  {
   "cell_type": "code",
   "execution_count": 2,
   "metadata": {
    "collapsed": true
   },
   "outputs": [],
   "source": [
    "from __future__ import print_function"
   ]
  },
  {
   "cell_type": "code",
   "execution_count": 3,
   "metadata": {
    "collapsed": true
   },
   "outputs": [],
   "source": [
    "from hackernews import HackerNews\n",
    "hn = HackerNews()"
   ]
  },
  {
   "cell_type": "code",
   "execution_count": 29,
   "metadata": {
    "collapsed": true
   },
   "outputs": [
    {
     "name": "stdout",
     "output_type": "stream",
     "text": [
      "60 total Show HN ids\n"
     ]
    },
    {
     "ename": "NameError",
     "evalue": "name 'stories' is not defined",
     "output_type": "error",
     "traceback": [
      "\u001b[1;31m---------------------------------------------------------------------------\u001b[0m",
      "\u001b[1;31mNameError\u001b[0m                                 Traceback (most recent call last)",
      "\u001b[1;32m<ipython-input-29-286fef4b5a31>\u001b[0m in \u001b[0;36m<module>\u001b[1;34m()\u001b[0m\n\u001b[0;32m      6\u001b[0m      \u001b[0mshow_hn_stories\u001b[0m\u001b[1;33m.\u001b[0m\u001b[0mappend\u001b[0m\u001b[1;33m(\u001b[0m\u001b[0mhn\u001b[0m\u001b[1;33m.\u001b[0m\u001b[0mget_item\u001b[0m\u001b[1;33m(\u001b[0m\u001b[0msid\u001b[0m\u001b[1;33m)\u001b[0m\u001b[1;33m)\u001b[0m\u001b[1;33m\u001b[0m\u001b[0m\n\u001b[0;32m      7\u001b[0m \u001b[1;33m\u001b[0m\u001b[0m\n\u001b[1;32m----> 8\u001b[1;33m \u001b[0mshow_hn_github_repos\u001b[0m \u001b[1;33m=\u001b[0m \u001b[1;33m[\u001b[0m\u001b[0mstory\u001b[0m \u001b[1;32mfor\u001b[0m \u001b[0mstory\u001b[0m \u001b[1;32min\u001b[0m \u001b[0mstories\u001b[0m \u001b[1;32mif\u001b[0m \u001b[1;34m'github.com'\u001b[0m \u001b[1;32min\u001b[0m \u001b[0mstory\u001b[0m\u001b[1;33m.\u001b[0m\u001b[0murl\u001b[0m\u001b[1;33m]\u001b[0m\u001b[1;33m\u001b[0m\u001b[0m\n\u001b[0m\u001b[0;32m      9\u001b[0m \u001b[1;32mprint\u001b[0m\u001b[1;33m(\u001b[0m\u001b[0mlen\u001b[0m\u001b[1;33m(\u001b[0m\u001b[0mshow_hn_github_repos\u001b[0m\u001b[1;33m)\u001b[0m\u001b[1;33m,\u001b[0m \u001b[1;34m\"Show HN stories from github\"\u001b[0m\u001b[1;33m)\u001b[0m\u001b[1;33m\u001b[0m\u001b[0m\n\u001b[0;32m     10\u001b[0m \u001b[1;33m\u001b[0m\u001b[0m\n",
      "\u001b[1;31mNameError\u001b[0m: name 'stories' is not defined"
     ]
    }
   ],
   "source": [
    "show_hn_ids = hn.show_stories()\n",
    "print(len(show_hn_ids), \"total Show HN ids\")\n",
    "# \n",
    "show_hn_stories = []\n",
    "for sid in show_hn_ids:\n",
    "     show_hn_stories.append(hn.get_item(sid))"
   ]
  },
  {
   "cell_type": "code",
   "execution_count": 31,
   "metadata": {
    "collapsed": false
   },
   "outputs": [
    {
     "name": "stdout",
     "output_type": "stream",
     "text": [
      "18 Show HN stories from github\n",
      "\n"
     ]
    }
   ],
   "source": [
    "show_hn_github_repos = [item for item in show_hn_stories \n",
    "                       if item.url is not None\n",
    "                       and 'github.com' in item.url \n",
    "                       and 'gist' not in item.url]\n",
    "print(len(show_hn_github_repos), \"Show HN stories from github\")\n",
    " \n",
    "print('\\n'.join([item.title for item in show_hn_github_repos \n",
    "        if item in hn_github_repos]))"
   ]
  },
  {
   "cell_type": "code",
   "execution_count": 5,
   "metadata": {
    "collapsed": true
   },
   "outputs": [
    {
     "name": "stdout",
     "output_type": "stream",
     "text": [
      "500 total HN ids\n"
     ]
    },
    {
     "ename": "NameError",
     "evalue": "name 'stories' is not defined",
     "output_type": "error",
     "traceback": [
      "\u001b[1;31m---------------------------------------------------------------------------\u001b[0m",
      "\u001b[1;31mNameError\u001b[0m                                 Traceback (most recent call last)",
      "\u001b[1;32m<ipython-input-5-1a1dd72a783c>\u001b[0m in \u001b[0;36m<module>\u001b[1;34m()\u001b[0m\n\u001b[0;32m      6\u001b[0m     \u001b[0mall_hn_items\u001b[0m\u001b[1;33m.\u001b[0m\u001b[0mappend\u001b[0m\u001b[1;33m(\u001b[0m\u001b[0mhn\u001b[0m\u001b[1;33m.\u001b[0m\u001b[0mget_item\u001b[0m\u001b[1;33m(\u001b[0m\u001b[0msid\u001b[0m\u001b[1;33m)\u001b[0m\u001b[1;33m)\u001b[0m\u001b[1;33m\u001b[0m\u001b[0m\n\u001b[0;32m      7\u001b[0m \u001b[1;33m\u001b[0m\u001b[0m\n\u001b[1;32m----> 8\u001b[1;33m \u001b[0mhn_github_repos\u001b[0m \u001b[1;33m=\u001b[0m \u001b[1;33m[\u001b[0m\u001b[0mstory\u001b[0m \u001b[1;32mfor\u001b[0m \u001b[0mstory\u001b[0m \u001b[1;32min\u001b[0m \u001b[0mstories\u001b[0m \u001b[1;32mif\u001b[0m \u001b[1;34m'github.com'\u001b[0m \u001b[1;32min\u001b[0m \u001b[0mstory\u001b[0m\u001b[1;33m.\u001b[0m\u001b[0murl\u001b[0m\u001b[1;33m]\u001b[0m\u001b[1;33m\u001b[0m\u001b[0m\n\u001b[0m\u001b[0;32m      9\u001b[0m \u001b[1;32mprint\u001b[0m\u001b[1;33m(\u001b[0m\u001b[0mlen\u001b[0m\u001b[1;33m(\u001b[0m\u001b[0mhn_github_repos\u001b[0m\u001b[1;33m)\u001b[0m\u001b[1;33m,\u001b[0m \u001b[1;34m\"HN stories from github\"\u001b[0m\u001b[1;33m)\u001b[0m\u001b[1;33m\u001b[0m\u001b[0m\n",
      "\u001b[1;31mNameError\u001b[0m: name 'stories' is not defined"
     ]
    }
   ],
   "source": [
    "new_hn_ids = hn.new_stories()\n",
    "print(len(new_hn_ids), \"total HN ids\")\n",
    "\n",
    "all_hn_items = []\n",
    "for sid in new_hn_ids:\n",
    "    all_hn_items.append(hn.get_item(sid))"
   ]
  },
  {
   "cell_type": "code",
   "execution_count": 22,
   "metadata": {
    "collapsed": false
   },
   "outputs": [],
   "source": [
    "hn_github_repos = [item for item in all_hn_items \n",
    "                   if item.url is not None\n",
    "                   and 'github.com' in item.url \n",
    "                   and 'gist' not in item.url]"
   ]
  },
  {
   "cell_type": "code",
   "execution_count": 24,
   "metadata": {
    "collapsed": true
   },
   "outputs": [
    {
     "name": "stdout",
     "output_type": "stream",
     "text": [
      "40 total github repos \n",
      "\n",
      "Clojure Katas Inspired by Alice in Wonderland\n",
      "https://github.com/gigasquid/wonderland-clojure-katas\n",
      "\n",
      "Hyperminimal JavaScript dependency injection framework\n",
      "https://github.com/derhuerst/flacon\n",
      "\n",
      "Comprehensive Sudoers Management with Ansible\n",
      "https://github.com/wtcross/ansible-sudoers\n",
      "\n",
      "Desktopen – a CLI util to open and position X windows\n",
      "https://github.com/snitko/desktopen\n",
      "\n",
      "Additional sorting algorithms for C++14\n",
      "https://github.com/Morwenn/cpp-sort\n",
      "\n",
      "Picrin – a lightweight R7RS scheme implementation in pure C89\n",
      "https://github.com/picrin-scheme/picrin\n",
      "\n",
      "Optimize Node.js code execution and detect memory leaks\n",
      "https://github.com/s-a/iron-node/blob/master/docs/PROFILE.md\n",
      "\n",
      "RIVR – The world's first open source torrents search engine\n",
      "https://github.com/algoprog/rivr-search\n",
      "\n",
      "Micro: ES7 HTTP microservices\n",
      "https://github.com/zeithq/micro\n",
      "\n",
      "Show HN: My kids' nightlight powered by Node.js, Philips Hue and Dash buttons\n",
      "https://github.com/ecaron/hue-website-nightlights/\n",
      "\n",
      "Directory tags for lazy programmers\n",
      "https://github.com/joowani/dtags\n",
      "\n",
      "Mircosoft FFmpegInterop library for Windows\n",
      "https://github.com/Microsoft/FFmpegInterop\n",
      "\n",
      "Python module to generate regular all expression matches\n",
      "https://github.com/google/sre_yield\n",
      "\n",
      "Show HN: Awesome scripts that make WhatsApp Web better\n",
      "https://github.com/zweicoder/AwesomeScripts/tree/master/WhatsApp\n",
      "\n",
      "Express Applies to Become a Node “Top Level Project”\n",
      "https://github.com/nodejs/TSC/pull/39\n",
      "\n",
      "Blazing fast Apple TV application development using pure JavaScript\n",
      "https://github.com/emadalam/atvjs\n",
      "\n",
      "UPB – small, fast parsers for the 21st century\n",
      "https://github.com/google/upb\n",
      "\n",
      "Show HN: A Ruby Gem for getting volume and the bounding box from an STL file\n",
      "https://github.com/chiedolabs/stl_parser\n",
      "\n",
      "Awesome Public Datasets Ranging from Finance to Geology\n",
      "https://github.com/caesar0301/awesome-public-datasets\n",
      "\n",
      "Java bindings for Brotli: a new compression algorithm for the internet\n",
      "https://github.com/meteogroup/jbrotli\n",
      "\n",
      "Show HN: Openblog – Blogging with GitHub Issues\n",
      "https://github.com/mateogianolio/openblog\n",
      "\n",
      "Google Open Source Load Balancer in Go\n",
      "https://github.com/google/seesaw\n",
      "\n",
      "Curvilinear: an insanely small (2KB), unopinionated alternative to React\n",
      "https://github.com/pags/curvilinear\n",
      "\n",
      "Tcl.js: robust, high-performance Tcl in JavaScript\n",
      "https://github.com/cyanogilvie/Tcl.js\n",
      "\n",
      "Rereduce: reducer library for Redux\n",
      "https://github.com/slorber/rereduce\n",
      "\n",
      "Peersuasive/luce: Luce – A GUI Module for Lua Based on JUCE\n",
      "https://github.com/peersuasive/luce\n",
      "\n",
      "Jade, Node.js template engine, is being forced to rename due to trademark\n",
      "https://github.com/pugjs/jade/issues/2184\n",
      "\n",
      "Furnish JavaScript - Let the classes on DOM elements generate the CSS for you\n",
      "https://github.com/Idnan/furnish-js\n",
      "\n",
      "What the Classics Know of Blue\n",
      "https://github.com/emdaniels/what-the-classics-know-of-blue\n",
      "\n",
      "Parse Alternatives\n",
      "https://github.com/relatedcode/ParseAlternatives\n",
      "\n",
      "Redux-devtools-chart-monitor: A chart monitor for Redux DevTools\n",
      "https://github.com/romseguy/redux-devtools-chart-monitor\n",
      "\n",
      "Show HN: Introductory book about writing webapps with Go\n",
      "http://github.com/thewhitetulip/web-dev-golang-anti-textbook\n",
      "\n",
      "Show HN: A simple todo list manager\n",
      "http://github.com/thewhitetulip/Tasks\n",
      "\n",
      "Material, a Graphics Framework for Material Design in Swift\n",
      "https://github.com/CosmicMind/Material\n",
      "\n",
      "Show HN: ES2015 method polymorphism\n",
      "https://github.com/dosaygo/open-0/blob/master/decorators-and-type-checking-js/README.md\n",
      "\n",
      "Automagically sets trending, good images on Reddit as desktop wallpapers\n",
      "https://github.com/yask123/RedditWallpapers\n",
      "\n",
      "Learn X in Y minutes as a single PDF\n",
      "https://github.com/aviaryan/learnxinyminutes-pdf\n",
      "\n",
      "Show HN: KISS Literate Programming\n",
      "https://github.com/fibo/kiss-literate-programming/blob/master/README.md#kiss-literate-programming\n",
      "\n",
      "Space Shooter in QBasic\n",
      "https://github.com/strathausen/qtrek.bas\n",
      "\n",
      "Reasonably secure pair programming\n",
      "https://github.com/goerz/tmuxpair#reasonably-secure-pair-programming\n"
     ]
    }
   ],
   "source": [
    "print(len(hn_github_repos), \"total github repos\", '\\n')\n",
    "\n",
    "print('\\n\\n'.join\n",
    "      (\n",
    "        item.title+'\\n'+item.url \n",
    "        for item in hn_github_repos\n",
    "      )\n",
    "     )"
   ]
  },
  {
   "cell_type": "code",
   "execution_count": 25,
   "metadata": {
    "collapsed": true
   },
   "outputs": [
    {
     "data": {
      "text/plain": [
       "['__class__',\n",
       " '__delattr__',\n",
       " '__dict__',\n",
       " '__doc__',\n",
       " '__format__',\n",
       " '__getattribute__',\n",
       " '__hash__',\n",
       " '__init__',\n",
       " '__module__',\n",
       " '__new__',\n",
       " '__reduce__',\n",
       " '__reduce_ex__',\n",
       " '__repr__',\n",
       " '__setattr__',\n",
       " '__sizeof__',\n",
       " '__str__',\n",
       " '__subclasshook__',\n",
       " '__weakref__',\n",
       " 'by',\n",
       " 'dead',\n",
       " 'deleted',\n",
       " 'item_id',\n",
       " 'item_type',\n",
       " 'kids',\n",
       " 'parent',\n",
       " 'parts',\n",
       " 'raw',\n",
       " 'score',\n",
       " 'submission_time',\n",
       " 'text',\n",
       " 'title',\n",
       " 'url']"
      ]
     },
     "execution_count": 25,
     "metadata": {},
     "output_type": "execute_result"
    }
   ],
   "source": [
    "dir(hn_github_repos[1])"
   ]
  },
  {
   "cell_type": "code",
   "execution_count": 34,
   "metadata": {
    "collapsed": false
   },
   "outputs": [
    {
     "name": "stdout",
     "output_type": "stream",
     "text": [
      "11004238\n",
      "story\n",
      "None\n",
      "{\"title\": \"Hyperminimal JavaScript dependency injection framework\", \"url\": \"https://github.com/derhuerst/flacon\", \"descendants\": 0, \"by\": \"derhuerst\", \"score\": 1, \"time\": 1454195493, \"type\": \"story\", \"id\": 11004238}\n",
      "1\n",
      "2016-01-30 15:11:33\n",
      "None\n",
      "Hyperminimal JavaScript dependency injection framework\n",
      "https://github.com/derhuerst/flacon\n"
     ]
    }
   ],
   "source": [
    "a = hn_github_repos[1]\n",
    "b = show_hn_github_repos[1]\n",
    "x = a\n",
    "print(x.item_id, \n",
    "      x.item_type, \n",
    "      x.parts, \n",
    "      x.raw, \n",
    "      x.score, \n",
    "      x.submission_time, \n",
    "      x.text, \n",
    "      x.title, \n",
    "      x.url, \n",
    "      sep='\\n')"
   ]
  },
  {
   "cell_type": "code",
   "execution_count": null,
   "metadata": {
    "collapsed": true
   },
   "outputs": [],
   "source": []
  }
 ],
 "metadata": {
  "kernelspec": {
   "display_name": "Python 2",
   "language": "python",
   "name": "python2"
  },
  "language_info": {
   "codemirror_mode": {
    "name": "ipython",
    "version": 2
   },
   "file_extension": ".py",
   "mimetype": "text/x-python",
   "name": "python",
   "nbconvert_exporter": "python",
   "pygments_lexer": "ipython2",
   "version": "2.7.6"
  }
 },
 "nbformat": 4,
 "nbformat_minor": 0
}
